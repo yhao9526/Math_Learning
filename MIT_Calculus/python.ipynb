{
  "nbformat": 4,
  "nbformat_minor": 0,
  "metadata": {
    "colab": {
      "provenance": [],
      "authorship_tag": "ABX9TyN5TC1Qm/FylAKaQKTCNiLw",
      "include_colab_link": true
    },
    "kernelspec": {
      "name": "python3",
      "display_name": "Python 3"
    },
    "language_info": {
      "name": "python"
    }
  },
  "cells": [
    {
      "cell_type": "markdown",
      "metadata": {
        "id": "view-in-github",
        "colab_type": "text"
      },
      "source": [
        "<a href=\"https://colab.research.google.com/github/yhao9526/Math_Learning/blob/main/MIT_Calculus/python.ipynb\" target=\"_parent\"><img src=\"https://colab.research.google.com/assets/colab-badge.svg\" alt=\"Open In Colab\"/></a>"
      ]
    },
    {
      "cell_type": "markdown",
      "source": [
        "# 1.编程入门\n",
        "****\n",
        "\n",
        "\n"
      ],
      "metadata": {
        "id": "jIFdM3baPEbZ"
      }
    },
    {
      "cell_type": "markdown",
      "source": [
        "## 1.1 算术和变量\n",
        "\n",
        "进行计算，定义和修改变量。\n"
      ],
      "metadata": {
        "id": "TMZGeraSaSND"
      }
    },
    {
      "cell_type": "markdown",
      "source": [
        "### 1.1.1 输出\n",
        "\n"
      ],
      "metadata": {
        "id": "2XWbJhFkaG_V"
      }
    },
    {
      "cell_type": "markdown",
      "source": [
        "您可以要求计算机完成的最简单（也是最重要的！）的任务之一就是输出一条消息。\n",
        "\n",
        "在Python中，我们要求计算机为我们输出一条消息，方法是编写print()，并将消息放入括号内并用引号括起来。\n",
        "\n",
        "下面，我们要求计算机打印消息Hello，world！"
      ],
      "metadata": {
        "id": "07_WdtE_aKZI"
      }
    },
    {
      "cell_type": "code",
      "source": [
        "print(\"Hello, world!\")"
      ],
      "metadata": {
        "id": "td7PT-WuPjOv"
      },
      "execution_count": null,
      "outputs": []
    },
    {
      "cell_type": "markdown",
      "source": [
        "代码位于框内（称为代码单元），计算机的响应（称为代码输出）显示在框的下方。\n",
        "正如你所看到的，计算机打印出了我们想要的信息。\n"
      ],
      "metadata": {
        "id": "1cuBJ7TdSesq"
      }
    },
    {
      "cell_type": "markdown",
      "source": [
        "### 1.1.2 运算\n"
      ],
      "metadata": {
        "id": "curphNxFSl4j"
      }
    },
    {
      "cell_type": "markdown",
      "source": [
        "我们还可以打印一些算术运算（如加、减、乘或除）的值。\n",
        "\n",
        "例如，在下一个代码单元格中，计算机将2加1，然后输出结果，即3。\n",
        "\n",
        "请注意，与简单地打印文本不同，这里没有使用任何引号。\n"
      ],
      "metadata": {
        "id": "rMyAK05abF96"
      }
    },
    {
      "cell_type": "code",
      "source": [
        "print(1 + 2)"
      ],
      "metadata": {
        "id": "oiHh8Ru6SVYv"
      },
      "execution_count": null,
      "outputs": []
    },
    {
      "cell_type": "markdown",
      "source": [
        "我们也可以用python做减法。\n",
        "下一个代码单元格从9中减去5并输出结果，即4。\n",
        "\n"
      ],
      "metadata": {
        "id": "V1HhaUfqSNRk"
      }
    },
    {
      "cell_type": "code",
      "execution_count": null,
      "metadata": {
        "id": "sMtRkiz7PDgM"
      },
      "outputs": [],
      "source": [
        "print(9 - 5)"
      ]
    },
    {
      "cell_type": "markdown",
      "source": [
        "实际上，你可以用python做很多计算！\n",
        "参见下表中的一些示例。\n",
        "\n",
        "| Operation     | Symbol | Example      |\n",
        "|:--------------|:--------|:--------------|\n",
        "| Addition       | +        | 1 + 2 = 3     |\n",
        "| Subtraction    | -        | 5 - 4 = 1     |\n",
        "| Multiplication | *        | 2 * 4 = 8     |\n",
        "| Division       | /        | 6 / 3 = 2     |\n",
        "| Exponent       | **       | 3 ** 2 = 9    |\n",
        "\n",
        "你可以用括号控制长计算中的操作顺序。\n"
      ],
      "metadata": {
        "id": "ynwcShEHVgdC"
      }
    },
    {
      "cell_type": "code",
      "source": [
        "print(((1 + 3) * (9 - 2) / 2) ** 2)"
      ],
      "metadata": {
        "id": "bHGkj7AAVlHk"
      },
      "execution_count": null,
      "outputs": []
    },
    {
      "cell_type": "markdown",
      "source": [
        "通常，Python在决定操作顺序时遵循PEMDAS规则。\n",
        "\n"
      ],
      "metadata": {
        "id": "ero13FUuVsck"
      }
    },
    {
      "cell_type": "markdown",
      "source": [
        "### 1.1.3 注释\n",
        "\n",
        "\n",
        "\n"
      ],
      "metadata": {
        "id": "uczUTF9iZu9U"
      }
    },
    {
      "cell_type": "markdown",
      "source": [
        "我们使用注释来注释代码正在做的事情。\n",
        "\n",
        "它们可以帮助其他人理解您的代码，如果您有一段时间没有看过自己的代码，它们也会很有帮助。\n",
        "\n",
        "到目前为止，我们编写的代码非常短，但是当您编写大量代码时，注释变得更加重要。\n",
        "\n",
        "例如，在下一个代码单元格中，我们将3乘以2。\n",
        "\n",
        "我们还在代码上方添加注释(#将3乘以2)来描述代码的功能。\n"
      ],
      "metadata": {
        "id": "3vwpAQfbZ0rw"
      }
    },
    {
      "cell_type": "code",
      "source": [
        "# Multiply 3 by 2\n",
        "print(3 * 2)"
      ],
      "metadata": {
        "id": "qcG6BGKDWCWg"
      },
      "execution_count": null,
      "outputs": []
    },
    {
      "cell_type": "markdown",
      "source": [
        "为了向Python表明一行是注释（而不是Python代码），您需要在第一个字符上写一个井号（#）。\n",
        "一旦Python看到井号并识别出该行是注释，它就会被计算机完全忽略。\n",
        "\n",
        "这很重要，因为就像英语或印地语（或任何其他语言！）一样，Python是一种需要遵循非常严格规则的语言。\n",
        "\n",
        "不过，Python比人类监听器更严格，如果不能理解代码，它只会出错。\n",
        "\n",
        "我们可以在下面的代码单元格中看到一个示例。\n",
        "如果我们删除磅号，Python会出错，因为注释中的文本不是有效的Python代码，所以它不能被正确解释。\n"
      ],
      "metadata": {
        "id": "a666acgjWUT0"
      }
    },
    {
      "cell_type": "code",
      "source": [
        "Multiply 3 by 2"
      ],
      "metadata": {
        "id": "5tiL9IgtWZ_W"
      },
      "execution_count": null,
      "outputs": []
    },
    {
      "cell_type": "markdown",
      "source": [
        "### 1.1.4 变量\n",
        "\n",
        "\n",
        "\n",
        "\n"
      ],
      "metadata": {
        "id": "fThcojYaWud2"
      }
    },
    {
      "cell_type": "markdown",
      "source": [
        "到目前为止，您已经使用代码进行计算并输出结果，并且结果没有保存在任何地方。\n",
        "\n",
        "但是，您可以想象您可能希望保存结果以便以后使用它。\n",
        "为此，您需要使用变量。"
      ],
      "metadata": {
        "id": "jJQtVU3EbiEy"
      }
    },
    {
      "cell_type": "markdown",
      "source": [
        "- 创建变量\n",
        "\n",
        "下一个代码单元创建了一个名为test_var的变量，并将5加4得到的值赋给它。\n",
        "然后输出赋给变量的值9。"
      ],
      "metadata": {
        "id": "4BKaFFDHZgRw"
      }
    },
    {
      "cell_type": "code",
      "source": [
        "# Create a variable called test_var and give it a value of 4+5\n",
        "test_var = 4 + 5\n",
        "\n",
        "# Print the value of test_var\n",
        "print(test_var)"
      ],
      "metadata": {
        "id": "KM6YYFsHXKc-"
      },
      "execution_count": null,
      "outputs": []
    },
    {
      "cell_type": "markdown",
      "source": [
        "通常，要使用变量，首先需要选择要使用的名称。\n",
        "变量名最好简短且具有描述性。\n",
        "\n",
        "它们还需要满足几个要求：\n",
        "\n",
        "它们不能有空格（例如，test var是不允许的）\n",
        "\n",
        "它们只能包含字母、数字和下划线（例如test_var!）\n",
        "\n",
        "它们必须以字母或下划线开头（例如，1_var_是不允许的）\n"
      ],
      "metadata": {
        "id": "GER6LhhtXTx8"
      }
    },
    {
      "cell_type": "markdown",
      "source": [
        "然后，要创建变量，需要使用 = 。\n",
        "\n",
        "您总是可以通过使用print（）并将变量名放在括号中来查看分配给变量的值。\n",
        "\n",
        "随着时间的推移，您将学习如何为Python变量选择合适的名称。\n",
        "\n",
        "现在感觉不舒服是完全正常的，最好的学习方法就是查看大量的Python代码！\n"
      ],
      "metadata": {
        "id": "bmpKF3AtXfkv"
      }
    },
    {
      "cell_type": "markdown",
      "source": [
        "- 操作变量\n",
        "\n",
        "您总是可以通过覆盖前一个值来更改分配给变量的值。\n",
        "\n",
        "在下面的代码单元格中，我们将my_var的值从3更改为100。\n"
      ],
      "metadata": {
        "id": "IPDUGHi6XvsO"
      }
    },
    {
      "cell_type": "code",
      "source": [
        "# Set the value of a new variable to 3\n",
        "my_var = 3\n",
        "\n",
        "# Print the value assigned to my_var\n",
        "print(my_var)\n",
        "\n",
        "# Change the value of the variable to 100\n",
        "my_var = 100\n",
        "\n",
        "# Print the new value assigned to my_var\n",
        "print(my_var)"
      ],
      "metadata": {
        "id": "Vryh7wdIX5Cm"
      },
      "execution_count": null,
      "outputs": []
    },
    {
      "cell_type": "markdown",
      "source": [
        "请注意，通常，无论何时在代码单元中定义变量，后面的所有代码单元也都可以访问该变量。\n",
        "例如，我们使用下面代码单元访问my_var（来自上面的代码单元）和test_var（来自本教程前面的代码单元）的值。\n"
      ],
      "metadata": {
        "id": "aueqSC_LX_I2"
      }
    },
    {
      "cell_type": "code",
      "source": [
        "print(my_var)\n",
        "print(test_var)"
      ],
      "metadata": {
        "id": "2bWM0OBSYAzi"
      },
      "execution_count": null,
      "outputs": []
    },
    {
      "cell_type": "markdown",
      "source": [
        "下一个代码单元告诉Python将my_var的当前值增加3。\n",
        "\n",
        "要做到这一点，我们仍然需要像以前一样使用my_var =。\n",
        "\n",
        "和之前一样，我们要赋给变量的新值在=号的右边。\n"
      ],
      "metadata": {
        "id": "Z819N2WSYQJJ"
      }
    },
    {
      "cell_type": "code",
      "source": [
        "# Increase the value by 3\n",
        "my_var = my_var + 3\n",
        "\n",
        "# Print the value assigned to my_var\n",
        "print(my_var)"
      ],
      "metadata": {
        "id": "aNytf42rYUd8"
      },
      "execution_count": null,
      "outputs": []
    },
    {
      "cell_type": "markdown",
      "source": [
        "- 使用多个变量\n",
        "\n",
        "代码使用多个变量是很常见的。\n",
        "\n",
        "当我们需要用多个输入进行长时间的计算时，这尤其有用。\n",
        "\n",
        "在下一个代码单元中，我们计算四年中的秒数。\n",
        "这个计算使用5个输入。\n"
      ],
      "metadata": {
        "id": "cxUBpFNbYbaZ"
      }
    },
    {
      "cell_type": "code",
      "source": [
        "# Create variables\n",
        "num_years = 4\n",
        "days_per_year = 365\n",
        "hours_per_day = 24\n",
        "mins_per_hour = 60\n",
        "secs_per_min = 60\n",
        "\n",
        "# Calculate number of seconds in four years\n",
        "total_secs = secs_per_min * mins_per_hour * hours_per_day * days_per_year * num_years\n",
        "print(total_secs)"
      ],
      "metadata": {
        "id": "mpbRXbTaYgm-"
      },
      "execution_count": null,
      "outputs": []
    },
    {
      "cell_type": "markdown",
      "source": [
        "如上所述，四年有126144000秒。\n",
        "\n",
        "请注意，在没有变量的情况下进行计算是可能的，仅为60* 60 24 * 365 * 4，但要检查没有变量的计算是否有一些错误要困难得多，因为它不具有可读性。\n",
        "\n",
        "当我们使用变量（如num_years、days_per_year等）时，我们可以更好地跟踪计算的每个部分，更容易检查和纠正任何错误。\n",
        "\n",
        "请注意，当输入的值可以改变时，使用变量特别有用。\n",
        "\n",
        "例如，假设我们想通过将一年中的天数从365更新为365.25来略微改进我们的估计，以考虑闰年。\n",
        "然后我们可以在不改变任何其他变量的情况下改变todays_per_year的赋值并重做计算。\n"
      ],
      "metadata": {
        "id": "PXlX0zTLYqPz"
      }
    },
    {
      "cell_type": "code",
      "source": [
        "# Update to include leap years\n",
        "days_per_year = 365.25\n",
        "\n",
        "# Calculate number of seconds in four years\n",
        "total_secs = secs_per_min * mins_per_hour * hours_per_day * days_per_year * num_years\n",
        "print(total_secs)"
      ],
      "metadata": {
        "id": "ZF4KpclzYtoR"
      },
      "execution_count": null,
      "outputs": []
    },
    {
      "cell_type": "markdown",
      "source": [
        "注意：您可能已经注意到在数字末尾添加了.0，这看起来可能没有必要。\n",
        "\n",
        "这是因为在第二次计算中，我们使用了一个有小数部分的数字（365.25），而第一次计算只乘以没有小数部分的数字。\n",
        "\n",
        "当我们在第3课讨论数据类型时，您将了解更多相关内容。\n"
      ],
      "metadata": {
        "id": "SAVtcsmxY5H2"
      }
    },
    {
      "cell_type": "markdown",
      "source": [
        "- 调试\n",
        "\n",
        "使用变量时的一个常见错误是意外引入错别字。\n",
        "\n",
        "例如，如果我们将hours_per_day拼写为hours_per_dy， Python将错误提示NameError: name ‘hours_per_dy’未定义\n"
      ],
      "metadata": {
        "id": "xFyjl1vcY8sY"
      }
    },
    {
      "cell_type": "code",
      "source": [
        "print(hours_per_dy)"
      ],
      "metadata": {
        "id": "PF59ONNQZFWp"
      },
      "execution_count": null,
      "outputs": []
    },
    {
      "cell_type": "markdown",
      "source": [
        "当您看到这样的NameError时，这表明您应该检查如何将它引用的变量拼写为“未定义”。\n",
        "然后，要修复错误，您只需要纠正拼写。\n"
      ],
      "metadata": {
        "id": "V3usmHV-ZPKQ"
      }
    },
    {
      "cell_type": "code",
      "source": [
        "print(hours_per_day)"
      ],
      "metadata": {
        "id": "gvp-EZgtZQUs"
      },
      "execution_count": null,
      "outputs": []
    },
    {
      "cell_type": "markdown",
      "source": [
        "### 1.1.5 练习\n"
      ],
      "metadata": {
        "id": "wEmlMxz9akWb"
      }
    },
    {
      "cell_type": "code",
      "source": [
        "# Set up the exercise\n",
        "from learntools.core import binder\n",
        "binder.bind(globals())\n",
        "from learntools.intro_to_programming.ex1 import *\n",
        "print('Setup complete.')"
      ],
      "metadata": {
        "id": "BhSGJvbDcW3G"
      },
      "execution_count": null,
      "outputs": []
    },
    {
      "cell_type": "markdown",
      "source": [
        "上面的代码设置了笔记本，以便它可以检查你在这个练习中的答案。\n",
        "永远不要修改这段代码。\n",
        "（否则，笔记本将无法验证您是否成功完成了练习。）\n"
      ],
      "metadata": {
        "id": "R3odYuBXbt37"
      }
    },
    {
      "cell_type": "markdown",
      "source": [
        "#### 问题1\n",
        "\n",
        "\n"
      ],
      "metadata": {
        "id": "pU9zM42bcoLF"
      }
    },
    {
      "cell_type": "markdown",
      "source": [
        "接下来，您将运行教程中的一些代码，这样您就可以看到它是如何为自己工作的。\n",
        "运行下一个代码单元，不做任何更改。"
      ],
      "metadata": {
        "id": "I0CXV1F_cxUG"
      }
    },
    {
      "cell_type": "code",
      "source": [
        "print(\"Hello, world!\")\n",
        "\n",
        "# DO NOT REMOVE: Mark this question as completed\n",
        "q1.check()"
      ],
      "metadata": {
        "id": "wJ7EGompcp7f"
      },
      "execution_count": null,
      "outputs": []
    },
    {
      "cell_type": "markdown",
      "source": [
        "您只是运行代码来打印Hello world！\n",
        "，您应该在上面的输出中看到。\n",
        "第二行代码（q1.check()）检查您的答案。\n",
        "永远不要修改这个检查代码；\n"
      ],
      "metadata": {
        "id": "Ou6SOGptc4f1"
      }
    },
    {
      "cell_type": "markdown",
      "source": [
        "#### 问题2"
      ],
      "metadata": {
        "id": "vN388tw6c794"
      }
    },
    {
      "cell_type": "markdown",
      "source": [
        "现在，您将打印另一条您选择的消息。\n",
        "为此，更改print（“您的消息在这里！”）以使用不同的消息。\n",
        "例如，您可能希望将其更改为：\n",
        "\n",
        "print(\"Good morning!\")\n",
        "\n",
        "print（“I am learning how to code:D“）\n",
        "\n",
        "或者，如果您编写类似print（”3+4”）的内容，您可能希望看看会发生什么。它是否返回7，或者它只是将“3+4”视为另一个消息？\n",
        "\n",
        "请确保您的消息包含在引号（\"）中，并且消息本身不使用引号。\n",
        "例如，这将抛出一个错误：print（“She said“great job”and give me a high-five!”），因为消息中包含引号。\n",
        "如果您决定在完成本课程后学习Python课程，您将在第6课中了解有关如何避免此错误的更多信息。\n",
        "\n",
        "请随意尝试多个消息！\n",
        "\n"
      ],
      "metadata": {
        "id": "weCZPs8Dc_FQ"
      }
    },
    {
      "cell_type": "code",
      "source": [
        "# TODO: Change the message\n",
        "print(\"Your message here!\")\n",
        "\n",
        "# DO NOT REMOVE: Mark this question as completed\n",
        "q2.check()"
      ],
      "metadata": {
        "id": "Bexli-3SdfMI"
      },
      "execution_count": null,
      "outputs": []
    },
    {
      "cell_type": "markdown",
      "source": [
        "#### 问题3"
      ],
      "metadata": {
        "id": "KQ_Rh3uSdjyx"
      }
    },
    {
      "cell_type": "markdown",
      "source": [
        "正如您在本教程中了解到的，Python中的注释前面有一个#号，它告诉Python忽略后面的文本。\n",
        "\n",
        "在一行代码前加上井号将使python忽略该代码。\n",
        "例如，这一行将被Python忽略，并且在输出中不会出现任何内容：\n"
      ],
      "metadata": {
        "id": "nMPUNuqEdmDi"
      }
    },
    {
      "cell_type": "code",
      "source": [
        "#print(1+2)"
      ],
      "metadata": {
        "id": "sgsLgivNdttT"
      },
      "execution_count": null,
      "outputs": []
    },
    {
      "cell_type": "markdown",
      "source": [
        "删除井号将使您可以再次运行代码。\n",
        "当我们删除一行代码前面的井号时，我们称之为取消注释。\n",
        "\n",
        "在这个问题中，您将取消下面代码单元格中的两行注释并查看输出：\n",
        "\n",
        "删除q3.hint（）前面的#。\n",
        "为了避免错误，不要去掉# Uncomment To view hint前面的#。\n",
        "\n",
        "接下来，删除q3.solution（）前面的#。\n",
        "\n",
        "与前面的问题一样，不要更改标记工作完成的最后一行代码。\n"
      ],
      "metadata": {
        "id": "LxygEQ2Rd3-Y"
      }
    },
    {
      "cell_type": "code",
      "source": [
        "# Uncomment to get a hint\n",
        "#q3.hint()\n",
        "\n",
        "# Uncomment to view solution\n",
        "#q3.solution()\n",
        "\n",
        "# DO NOT REMOVE: Check your answer\n",
        "q3.check()"
      ],
      "metadata": {
        "id": "tWNubZvweATS"
      },
      "execution_count": null,
      "outputs": []
    },
    {
      "cell_type": "markdown",
      "source": [
        "在下一个问题中，以及在本课程的大多数练习中，您将可以选择取消注释以查看提示和解决方案。\n",
        "一旦你觉得取消评论很好，继续下一个问题。\n"
      ],
      "metadata": {
        "id": "WE_zUb6neIjY"
      }
    },
    {
      "cell_type": "markdown",
      "source": [
        "#### 问题4"
      ],
      "metadata": {
        "id": "XiQNoOvOeRdR"
      }
    },
    {
      "cell_type": "markdown",
      "source": [
        "在本教程中，您定义了几个变量来计算一年中的总秒数。\n",
        "运行下一个代码单元格来执行这里的计算。\n"
      ],
      "metadata": {
        "id": "w8bgdPp6eTxL"
      }
    },
    {
      "cell_type": "code",
      "source": [
        "# Create variables\n",
        "num_years = 4\n",
        "days_per_year = 365\n",
        "hours_per_day = 24\n",
        "mins_per_hour = 60\n",
        "secs_per_min = 60\n",
        "\n",
        "# Calculate number of seconds in four years\n",
        "total_secs = secs_per_min * mins_per_hour * hours_per_day * days_per_year * num_years\n",
        "print(total_secs)"
      ],
      "metadata": {
        "id": "5uSNpz9peZGy"
      },
      "execution_count": null,
      "outputs": []
    },
    {
      "cell_type": "markdown",
      "source": [
        "使用下面的的代码完成：\n",
        "\n",
        "定义一个变量births_per_min并将其设置为250。\n",
        "（平均每分钟有250个婴儿出生。）\n",
        "\n",
        "定义一个变量births_per_day，其中包含每天出生的婴儿的平均数量。\n",
        "（要设置这个变量的值，应该使用births_per_min和前面代码单元中的一些变量。）\n",
        "\n",
        "记住，如果你需要的话，你总是可以得到提示的！\n"
      ],
      "metadata": {
        "id": "jY3lUZLFebkn"
      }
    },
    {
      "cell_type": "code",
      "source": [
        "# TODO: Set the value of the births_per_min variable\n",
        "births_per_min = ____\n",
        "\n",
        "# TODO: Set the value of the births_per_day variable\n",
        "births_per_day = ____\n",
        "\n",
        "# DO NOT REMOVE: Check your answer\n",
        "q4.check()"
      ],
      "metadata": {
        "id": "xQoXjtSUepgO"
      },
      "execution_count": null,
      "outputs": []
    },
    {
      "cell_type": "code",
      "source": [
        "# Uncomment to get a hint\n",
        "#q4.hint()\n",
        "\n",
        "# Uncomment to view solution\n",
        "#q4.solution()"
      ],
      "metadata": {
        "id": "Wr6irGaxesft"
      },
      "execution_count": null,
      "outputs": []
    },
    {
      "cell_type": "markdown",
      "source": [
        "#### 问题5"
      ],
      "metadata": {
        "id": "gX79i8CsevSY"
      }
    },
    {
      "cell_type": "markdown",
      "source": [
        "会比其他的更具挑战性！\n",
        "\n",
        "(记住，你可以随时得到提示或查看答案。)\n",
        "\n",
        "标有“泰坦尼克”的问题是Kaggle最著名的数据科学竞赛。\n",
        "\n",
        "在这次比赛中，参赛者的挑战是建立一个机器学习模型，该模型可以根据年龄、性别、家庭规模和船票号码等信息预测泰坦尼克号沉船上的乘客是否幸存。\n",
        "\n",
        "运行下一个代码单元，不做任何更改，以加载和预览泰坦数据。\n",
        "\n",
        "现在不要担心代码的细节—最终的结果是所有的泰坦尼克数据都被加载到一个名为titanic_data的变量中。\n",
        "（为了学习如何自己编写这些代码，你可以先学习Python课程，然后再学习Pandas课程。）\n"
      ],
      "metadata": {
        "id": "PvlOFlkVfAQA"
      }
    },
    {
      "cell_type": "code",
      "source": [
        "# Load the data from the titanic competition\n",
        "import pandas as pd\n",
        "titanic_data = pd.read_csv(\"../input/titanic/train.csv\")\n",
        "\n",
        "# Show the first five rows of the data\n",
        "titanic_data.head()"
      ],
      "metadata": {
        "id": "8x_Qd99RfQJD"
      },
      "execution_count": null,
      "outputs": []
    },
    {
      "cell_type": "markdown",
      "source": [
        "每个乘客都有不同的数据行。\n",
        "\n",
        "下一个代码单元定义并打印三个变量的值：\n",
        "\n",
        "total = 幸存的登船乘客总数\n",
        "\n",
        "survived = 沉船幸存的乘客人数\n",
        "\n",
        "minors = 18岁以下的乘客人数\n",
        "\n",
        "运行代码单元，不做任何更改。\n",
        "(现在不要担心这些变量是如何计算的细节。\n",
        "您可以在Pandas课程中了解有关如何计算这些值的更多信息。)\n"
      ],
      "metadata": {
        "id": "SbK-OUiQfUzV"
      }
    },
    {
      "cell_type": "code",
      "source": [
        "# Number of total passengers\n",
        "total = len(titanic_data)\n",
        "print(total)\n",
        "\n",
        "# Number of passengers who survived\n",
        "survived = (titanic_data.Survived == 1).sum()\n",
        "print(survived)\n",
        "\n",
        "# Number of passengers under 18\n",
        "minors = (titanic_data.Age < 18).sum()\n",
        "print(minors)"
      ],
      "metadata": {
        "id": "kJJGjuX6ftNF"
      },
      "execution_count": null,
      "outputs": []
    },
    {
      "cell_type": "markdown",
      "source": [
        "因此，\n",
        "\n",
        "total = 891（泰坦尼克号上有891名乘客），\n",
        "\n",
        "survive = 342（342名乘客幸存），\n",
        "\n",
        "minors = 113（113名乘客未满18岁）。\n",
        "\n",
        "在下面的代码单元格中，替换下划线_计算另外两个变量的值：。\n",
        "\n",
        "survived_fraction应该设置为泰坦尼克号灾难中幸存的乘客的比例。\n",
        "\n",
        "Minors_fraction应该是未成年（18岁以下）乘客的比例。\n",
        "\n",
        "对于每个变量，你的答案应该在0到1之间。\n",
        "\n",
        "如果您需要提示或希望查看解决方案，您可以跳到下一个代码单元格并取消注释适当的代码行(q5.hint()和q5.solution())。\n"
      ],
      "metadata": {
        "id": "m4plIjcofv0P"
      }
    },
    {
      "cell_type": "code",
      "source": [
        "# TODO: Fill in the value of the survived_fraction variable\n",
        "survived_fraction = ____\n",
        "\n",
        "# Print the value of the variable\n",
        "print(survived_fraction)\n",
        "\n",
        "# TODO: Fill in the value of the minors_fraction variable\n",
        "minors_fraction = ____\n",
        "\n",
        "# Print the value of the variable\n",
        "print(minors_fraction)\n",
        "\n",
        "# DO NOT REMOVE: Check your answer\n",
        "q5.check()"
      ],
      "metadata": {
        "id": "nbFgZOkzgVAz"
      },
      "execution_count": null,
      "outputs": []
    },
    {
      "cell_type": "code",
      "source": [
        "# Uncomment to receive a hint\n",
        "#q5.hint()\n",
        "\n",
        "# Uncomment to view the solution\n",
        "#q5.solution()"
      ],
      "metadata": {
        "id": "w6a8NfuLgYUz"
      },
      "execution_count": null,
      "outputs": []
    },
    {
      "cell_type": "markdown",
      "source": [
        "## 1.2 函数\n",
        "\n",
        "组织代码，避免冗余。\n"
      ],
      "metadata": {
        "id": "-2x0Q2VVgsyy"
      }
    },
    {
      "cell_type": "markdown",
      "source": [],
      "metadata": {
        "id": "0HjUZMlCgxIB"
      }
    }
  ]
}